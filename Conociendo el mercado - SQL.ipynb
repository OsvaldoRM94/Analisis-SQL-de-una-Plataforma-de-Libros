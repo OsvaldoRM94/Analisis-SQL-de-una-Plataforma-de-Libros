{
 "cells": [
  {
   "cell_type": "markdown",
   "metadata": {},
   "source": [
    "# PROYECTO SQL\n"
   ]
  },
  {
   "cell_type": "markdown",
   "metadata": {},
   "source": [
    "# Contexto:\n",
    "\n",
    "El coronavirus tomó al mundo entero por sorpresa, cambiando la rutina diaria de todos y todas. Los habitantes de las ciudades ya no pasaban su tiempo libre fuera, yendo a cafés y centros comerciales; sino que más gente se quedaba en casa, leyendo libros. Eso atrajo la atención de las startups (empresas emergentes) que se apresuraron a desarrollar nuevas aplicaciones para los amantes de los libros.\n",
    "\n",
    "Nos han dado una base de datos de uno de los servicios que compiten en este mercado. Contiene datos sobre libros, editoriales, autores y calificaciones de clientes y reseñas de libros. Esta información se utilizará para generar una propuesta de valor para un nuevo producto."
   ]
  },
  {
   "cell_type": "code",
   "execution_count": 4,
   "metadata": {},
   "outputs": [],
   "source": [
    "# importar librerías\n",
    "import pandas as pd\n",
    "from sqlalchemy import create_engine\n",
    "\n",
    "\n",
    "db_config = {'user': 'practicum_student',         # nombre de usuario\n",
    "             'pwd': 's65BlTKV3faNIGhmvJVzOqhs', # contraseña\n",
    "             'host': 'rc1b-wcoijxj3yxfsf3fs.mdb.yandexcloud.net',\n",
    "             'port': 6432,              # puerto de conexión\n",
    "             'db': 'data-analyst-final-project-db'}          # nombre de la base de datos\n",
    "\n",
    "connection_string = 'postgresql://{}:{}@{}:{}/{}'.format(db_config['user'],\n",
    "                                                                     db_config['pwd'],\n",
    "                                                                       db_config['host'],\n",
    "                                                                       db_config['port'],\n",
    "                                                                       db_config['db'])\n",
    "\n",
    "engine = create_engine(connection_string, connect_args={'sslmode':'require'})"
   ]
  },
  {
   "cell_type": "markdown",
   "metadata": {},
   "source": [
    "**Antes de empezar echemos un vistazo a nuestras tablas**"
   ]
  },
  {
   "cell_type": "code",
   "execution_count": 5,
   "metadata": {
    "scrolled": true
   },
   "outputs": [
    {
     "data": {
      "application/vnd.microsoft.datawrangler.viewer.v0+json": {
       "columns": [
        {
         "name": "index",
         "rawType": "int64",
         "type": "integer"
        },
        {
         "name": "book_id",
         "rawType": "int64",
         "type": "integer"
        },
        {
         "name": "author_id",
         "rawType": "int64",
         "type": "integer"
        },
        {
         "name": "title",
         "rawType": "object",
         "type": "string"
        },
        {
         "name": "num_pages",
         "rawType": "int64",
         "type": "integer"
        },
        {
         "name": "publication_date",
         "rawType": "object",
         "type": "unknown"
        },
        {
         "name": "publisher_id",
         "rawType": "int64",
         "type": "integer"
        }
       ],
       "ref": "0614e01d-7b91-4c6a-b908-94e5356b5d59",
       "rows": [
        [
         "0",
         "1",
         "546",
         "'Salem's Lot",
         "594",
         "2005-11-01",
         "93"
        ],
        [
         "1",
         "2",
         "465",
         "1 000 Places to See Before You Die",
         "992",
         "2003-05-22",
         "336"
        ],
        [
         "2",
         "3",
         "407",
         "13 Little Blue Envelopes (Little Blue Envelope  #1)",
         "322",
         "2010-12-21",
         "135"
        ],
        [
         "3",
         "4",
         "82",
         "1491: New Revelations of the Americas Before Columbus",
         "541",
         "2006-10-10",
         "309"
        ],
        [
         "4",
         "5",
         "125",
         "1776",
         "386",
         "2006-07-04",
         "268"
        ]
       ],
       "shape": {
        "columns": 6,
        "rows": 5
       }
      },
      "text/html": [
       "<div>\n",
       "<style scoped>\n",
       "    .dataframe tbody tr th:only-of-type {\n",
       "        vertical-align: middle;\n",
       "    }\n",
       "\n",
       "    .dataframe tbody tr th {\n",
       "        vertical-align: top;\n",
       "    }\n",
       "\n",
       "    .dataframe thead th {\n",
       "        text-align: right;\n",
       "    }\n",
       "</style>\n",
       "<table border=\"1\" class=\"dataframe\">\n",
       "  <thead>\n",
       "    <tr style=\"text-align: right;\">\n",
       "      <th></th>\n",
       "      <th>book_id</th>\n",
       "      <th>author_id</th>\n",
       "      <th>title</th>\n",
       "      <th>num_pages</th>\n",
       "      <th>publication_date</th>\n",
       "      <th>publisher_id</th>\n",
       "    </tr>\n",
       "  </thead>\n",
       "  <tbody>\n",
       "    <tr>\n",
       "      <th>0</th>\n",
       "      <td>1</td>\n",
       "      <td>546</td>\n",
       "      <td>'Salem's Lot</td>\n",
       "      <td>594</td>\n",
       "      <td>2005-11-01</td>\n",
       "      <td>93</td>\n",
       "    </tr>\n",
       "    <tr>\n",
       "      <th>1</th>\n",
       "      <td>2</td>\n",
       "      <td>465</td>\n",
       "      <td>1 000 Places to See Before You Die</td>\n",
       "      <td>992</td>\n",
       "      <td>2003-05-22</td>\n",
       "      <td>336</td>\n",
       "    </tr>\n",
       "    <tr>\n",
       "      <th>2</th>\n",
       "      <td>3</td>\n",
       "      <td>407</td>\n",
       "      <td>13 Little Blue Envelopes (Little Blue Envelope...</td>\n",
       "      <td>322</td>\n",
       "      <td>2010-12-21</td>\n",
       "      <td>135</td>\n",
       "    </tr>\n",
       "    <tr>\n",
       "      <th>3</th>\n",
       "      <td>4</td>\n",
       "      <td>82</td>\n",
       "      <td>1491: New Revelations of the Americas Before C...</td>\n",
       "      <td>541</td>\n",
       "      <td>2006-10-10</td>\n",
       "      <td>309</td>\n",
       "    </tr>\n",
       "    <tr>\n",
       "      <th>4</th>\n",
       "      <td>5</td>\n",
       "      <td>125</td>\n",
       "      <td>1776</td>\n",
       "      <td>386</td>\n",
       "      <td>2006-07-04</td>\n",
       "      <td>268</td>\n",
       "    </tr>\n",
       "  </tbody>\n",
       "</table>\n",
       "</div>"
      ],
      "text/plain": [
       "   book_id  author_id                                              title  \\\n",
       "0        1        546                                       'Salem's Lot   \n",
       "1        2        465                 1 000 Places to See Before You Die   \n",
       "2        3        407  13 Little Blue Envelopes (Little Blue Envelope...   \n",
       "3        4         82  1491: New Revelations of the Americas Before C...   \n",
       "4        5        125                                               1776   \n",
       "\n",
       "   num_pages publication_date  publisher_id  \n",
       "0        594       2005-11-01            93  \n",
       "1        992       2003-05-22           336  \n",
       "2        322       2010-12-21           135  \n",
       "3        541       2006-10-10           309  \n",
       "4        386       2006-07-04           268  "
      ]
     },
     "execution_count": 5,
     "metadata": {},
     "output_type": "execute_result"
    }
   ],
   "source": [
    "#Primeras 5 filas de la tabla books\n",
    "query = '''\n",
    "SELECT *\n",
    "FROM books\n",
    "LIMIT 5;\n",
    "'''\n",
    "pd.io.sql.read_sql(query, con = engine)"
   ]
  },
  {
   "cell_type": "code",
   "execution_count": 6,
   "metadata": {
    "scrolled": true
   },
   "outputs": [
    {
     "data": {
      "application/vnd.microsoft.datawrangler.viewer.v0+json": {
       "columns": [
        {
         "name": "index",
         "rawType": "int64",
         "type": "integer"
        },
        {
         "name": "author_id",
         "rawType": "int64",
         "type": "integer"
        },
        {
         "name": "author",
         "rawType": "object",
         "type": "string"
        }
       ],
       "ref": "6509aa48-7f6f-4350-bead-a6c6d0c1bb06",
       "rows": [
        [
         "0",
         "1",
         "A.S. Byatt"
        ],
        [
         "1",
         "2",
         "Aesop/Laura Harris/Laura Gibbs"
        ],
        [
         "2",
         "3",
         "Agatha Christie"
        ],
        [
         "3",
         "4",
         "Alan Brennert"
        ],
        [
         "4",
         "5",
         "Alan Moore/David   Lloyd"
        ]
       ],
       "shape": {
        "columns": 2,
        "rows": 5
       }
      },
      "text/html": [
       "<div>\n",
       "<style scoped>\n",
       "    .dataframe tbody tr th:only-of-type {\n",
       "        vertical-align: middle;\n",
       "    }\n",
       "\n",
       "    .dataframe tbody tr th {\n",
       "        vertical-align: top;\n",
       "    }\n",
       "\n",
       "    .dataframe thead th {\n",
       "        text-align: right;\n",
       "    }\n",
       "</style>\n",
       "<table border=\"1\" class=\"dataframe\">\n",
       "  <thead>\n",
       "    <tr style=\"text-align: right;\">\n",
       "      <th></th>\n",
       "      <th>author_id</th>\n",
       "      <th>author</th>\n",
       "    </tr>\n",
       "  </thead>\n",
       "  <tbody>\n",
       "    <tr>\n",
       "      <th>0</th>\n",
       "      <td>1</td>\n",
       "      <td>A.S. Byatt</td>\n",
       "    </tr>\n",
       "    <tr>\n",
       "      <th>1</th>\n",
       "      <td>2</td>\n",
       "      <td>Aesop/Laura Harris/Laura Gibbs</td>\n",
       "    </tr>\n",
       "    <tr>\n",
       "      <th>2</th>\n",
       "      <td>3</td>\n",
       "      <td>Agatha Christie</td>\n",
       "    </tr>\n",
       "    <tr>\n",
       "      <th>3</th>\n",
       "      <td>4</td>\n",
       "      <td>Alan Brennert</td>\n",
       "    </tr>\n",
       "    <tr>\n",
       "      <th>4</th>\n",
       "      <td>5</td>\n",
       "      <td>Alan Moore/David   Lloyd</td>\n",
       "    </tr>\n",
       "  </tbody>\n",
       "</table>\n",
       "</div>"
      ],
      "text/plain": [
       "   author_id                          author\n",
       "0          1                      A.S. Byatt\n",
       "1          2  Aesop/Laura Harris/Laura Gibbs\n",
       "2          3                 Agatha Christie\n",
       "3          4                   Alan Brennert\n",
       "4          5        Alan Moore/David   Lloyd"
      ]
     },
     "execution_count": 6,
     "metadata": {},
     "output_type": "execute_result"
    }
   ],
   "source": [
    "#Primeras 5 filas de la tabla authors\n",
    "query = '''\n",
    "SELECT *\n",
    "FROM authors\n",
    "LIMIT 5;\n",
    "'''\n",
    "pd.io.sql.read_sql(query, con = engine)"
   ]
  },
  {
   "cell_type": "code",
   "execution_count": 7,
   "metadata": {
    "scrolled": true
   },
   "outputs": [
    {
     "data": {
      "application/vnd.microsoft.datawrangler.viewer.v0+json": {
       "columns": [
        {
         "name": "index",
         "rawType": "int64",
         "type": "integer"
        },
        {
         "name": "publisher_id",
         "rawType": "int64",
         "type": "integer"
        },
        {
         "name": "publisher",
         "rawType": "object",
         "type": "string"
        }
       ],
       "ref": "35620844-a172-4ce7-a65d-16c26d063b84",
       "rows": [
        [
         "0",
         "1",
         "Ace"
        ],
        [
         "1",
         "2",
         "Ace Book"
        ],
        [
         "2",
         "3",
         "Ace Books"
        ],
        [
         "3",
         "4",
         "Ace Hardcover"
        ],
        [
         "4",
         "5",
         "Addison Wesley Publishing Company"
        ]
       ],
       "shape": {
        "columns": 2,
        "rows": 5
       }
      },
      "text/html": [
       "<div>\n",
       "<style scoped>\n",
       "    .dataframe tbody tr th:only-of-type {\n",
       "        vertical-align: middle;\n",
       "    }\n",
       "\n",
       "    .dataframe tbody tr th {\n",
       "        vertical-align: top;\n",
       "    }\n",
       "\n",
       "    .dataframe thead th {\n",
       "        text-align: right;\n",
       "    }\n",
       "</style>\n",
       "<table border=\"1\" class=\"dataframe\">\n",
       "  <thead>\n",
       "    <tr style=\"text-align: right;\">\n",
       "      <th></th>\n",
       "      <th>publisher_id</th>\n",
       "      <th>publisher</th>\n",
       "    </tr>\n",
       "  </thead>\n",
       "  <tbody>\n",
       "    <tr>\n",
       "      <th>0</th>\n",
       "      <td>1</td>\n",
       "      <td>Ace</td>\n",
       "    </tr>\n",
       "    <tr>\n",
       "      <th>1</th>\n",
       "      <td>2</td>\n",
       "      <td>Ace Book</td>\n",
       "    </tr>\n",
       "    <tr>\n",
       "      <th>2</th>\n",
       "      <td>3</td>\n",
       "      <td>Ace Books</td>\n",
       "    </tr>\n",
       "    <tr>\n",
       "      <th>3</th>\n",
       "      <td>4</td>\n",
       "      <td>Ace Hardcover</td>\n",
       "    </tr>\n",
       "    <tr>\n",
       "      <th>4</th>\n",
       "      <td>5</td>\n",
       "      <td>Addison Wesley Publishing Company</td>\n",
       "    </tr>\n",
       "  </tbody>\n",
       "</table>\n",
       "</div>"
      ],
      "text/plain": [
       "   publisher_id                          publisher\n",
       "0             1                                Ace\n",
       "1             2                           Ace Book\n",
       "2             3                          Ace Books\n",
       "3             4                      Ace Hardcover\n",
       "4             5  Addison Wesley Publishing Company"
      ]
     },
     "execution_count": 7,
     "metadata": {},
     "output_type": "execute_result"
    }
   ],
   "source": [
    "#Primeras 5 filas de la tabla publishers\n",
    "query = '''\n",
    "SELECT *\n",
    "FROM publishers\n",
    "LIMIT 5;\n",
    "'''\n",
    "pd.io.sql.read_sql(query, con = engine)"
   ]
  },
  {
   "cell_type": "code",
   "execution_count": 8,
   "metadata": {
    "scrolled": true
   },
   "outputs": [
    {
     "data": {
      "application/vnd.microsoft.datawrangler.viewer.v0+json": {
       "columns": [
        {
         "name": "index",
         "rawType": "int64",
         "type": "integer"
        },
        {
         "name": "rating_id",
         "rawType": "int64",
         "type": "integer"
        },
        {
         "name": "book_id",
         "rawType": "int64",
         "type": "integer"
        },
        {
         "name": "username",
         "rawType": "object",
         "type": "string"
        },
        {
         "name": "rating",
         "rawType": "int64",
         "type": "integer"
        }
       ],
       "ref": "80d833c6-9eb8-4c47-b082-2b70af411992",
       "rows": [
        [
         "0",
         "1",
         "1",
         "ryanfranco",
         "4"
        ],
        [
         "1",
         "2",
         "1",
         "grantpatricia",
         "2"
        ],
        [
         "2",
         "3",
         "1",
         "brandtandrea",
         "5"
        ],
        [
         "3",
         "4",
         "2",
         "lorichen",
         "3"
        ],
        [
         "4",
         "5",
         "2",
         "mariokeller",
         "2"
        ]
       ],
       "shape": {
        "columns": 4,
        "rows": 5
       }
      },
      "text/html": [
       "<div>\n",
       "<style scoped>\n",
       "    .dataframe tbody tr th:only-of-type {\n",
       "        vertical-align: middle;\n",
       "    }\n",
       "\n",
       "    .dataframe tbody tr th {\n",
       "        vertical-align: top;\n",
       "    }\n",
       "\n",
       "    .dataframe thead th {\n",
       "        text-align: right;\n",
       "    }\n",
       "</style>\n",
       "<table border=\"1\" class=\"dataframe\">\n",
       "  <thead>\n",
       "    <tr style=\"text-align: right;\">\n",
       "      <th></th>\n",
       "      <th>rating_id</th>\n",
       "      <th>book_id</th>\n",
       "      <th>username</th>\n",
       "      <th>rating</th>\n",
       "    </tr>\n",
       "  </thead>\n",
       "  <tbody>\n",
       "    <tr>\n",
       "      <th>0</th>\n",
       "      <td>1</td>\n",
       "      <td>1</td>\n",
       "      <td>ryanfranco</td>\n",
       "      <td>4</td>\n",
       "    </tr>\n",
       "    <tr>\n",
       "      <th>1</th>\n",
       "      <td>2</td>\n",
       "      <td>1</td>\n",
       "      <td>grantpatricia</td>\n",
       "      <td>2</td>\n",
       "    </tr>\n",
       "    <tr>\n",
       "      <th>2</th>\n",
       "      <td>3</td>\n",
       "      <td>1</td>\n",
       "      <td>brandtandrea</td>\n",
       "      <td>5</td>\n",
       "    </tr>\n",
       "    <tr>\n",
       "      <th>3</th>\n",
       "      <td>4</td>\n",
       "      <td>2</td>\n",
       "      <td>lorichen</td>\n",
       "      <td>3</td>\n",
       "    </tr>\n",
       "    <tr>\n",
       "      <th>4</th>\n",
       "      <td>5</td>\n",
       "      <td>2</td>\n",
       "      <td>mariokeller</td>\n",
       "      <td>2</td>\n",
       "    </tr>\n",
       "  </tbody>\n",
       "</table>\n",
       "</div>"
      ],
      "text/plain": [
       "   rating_id  book_id       username  rating\n",
       "0          1        1     ryanfranco       4\n",
       "1          2        1  grantpatricia       2\n",
       "2          3        1   brandtandrea       5\n",
       "3          4        2       lorichen       3\n",
       "4          5        2    mariokeller       2"
      ]
     },
     "execution_count": 8,
     "metadata": {},
     "output_type": "execute_result"
    }
   ],
   "source": [
    "#Primeras 5 filas de la tabla ratings\n",
    "query = '''\n",
    "SELECT *\n",
    "FROM ratings\n",
    "LIMIT 5;\n",
    "'''\n",
    "pd.io.sql.read_sql(query, con = engine)"
   ]
  },
  {
   "cell_type": "code",
   "execution_count": 9,
   "metadata": {},
   "outputs": [
    {
     "data": {
      "application/vnd.microsoft.datawrangler.viewer.v0+json": {
       "columns": [
        {
         "name": "index",
         "rawType": "int64",
         "type": "integer"
        },
        {
         "name": "review_id",
         "rawType": "int64",
         "type": "integer"
        },
        {
         "name": "book_id",
         "rawType": "int64",
         "type": "integer"
        },
        {
         "name": "username",
         "rawType": "object",
         "type": "string"
        },
        {
         "name": "text",
         "rawType": "object",
         "type": "string"
        }
       ],
       "ref": "f7d85106-c902-4afb-9e1e-059be02a0fe2",
       "rows": [
        [
         "0",
         "1",
         "1",
         "brandtandrea",
         "Mention society tell send professor analysis. Over provide race technology continue these."
        ],
        [
         "1",
         "2",
         "1",
         "ryanfranco",
         "Foot glass pretty audience hit themselves. Among admit investment argue security."
        ],
        [
         "2",
         "3",
         "2",
         "lorichen",
         "Listen treat keep worry. Miss husband tax but person sport treatment industry. Kitchen decision deep the. Social party body the."
        ],
        [
         "3",
         "4",
         "3",
         "johnsonamanda",
         "Finally month interesting blue could nature cultural bit. Prepare beat finish grow that smile teach. Dream me play near."
        ],
        [
         "4",
         "5",
         "3",
         "scotttamara",
         "Nation purpose heavy give wait song will. List dinner another whole positive radio fast. Music staff many green."
        ]
       ],
       "shape": {
        "columns": 4,
        "rows": 5
       }
      },
      "text/html": [
       "<div>\n",
       "<style scoped>\n",
       "    .dataframe tbody tr th:only-of-type {\n",
       "        vertical-align: middle;\n",
       "    }\n",
       "\n",
       "    .dataframe tbody tr th {\n",
       "        vertical-align: top;\n",
       "    }\n",
       "\n",
       "    .dataframe thead th {\n",
       "        text-align: right;\n",
       "    }\n",
       "</style>\n",
       "<table border=\"1\" class=\"dataframe\">\n",
       "  <thead>\n",
       "    <tr style=\"text-align: right;\">\n",
       "      <th></th>\n",
       "      <th>review_id</th>\n",
       "      <th>book_id</th>\n",
       "      <th>username</th>\n",
       "      <th>text</th>\n",
       "    </tr>\n",
       "  </thead>\n",
       "  <tbody>\n",
       "    <tr>\n",
       "      <th>0</th>\n",
       "      <td>1</td>\n",
       "      <td>1</td>\n",
       "      <td>brandtandrea</td>\n",
       "      <td>Mention society tell send professor analysis. ...</td>\n",
       "    </tr>\n",
       "    <tr>\n",
       "      <th>1</th>\n",
       "      <td>2</td>\n",
       "      <td>1</td>\n",
       "      <td>ryanfranco</td>\n",
       "      <td>Foot glass pretty audience hit themselves. Amo...</td>\n",
       "    </tr>\n",
       "    <tr>\n",
       "      <th>2</th>\n",
       "      <td>3</td>\n",
       "      <td>2</td>\n",
       "      <td>lorichen</td>\n",
       "      <td>Listen treat keep worry. Miss husband tax but ...</td>\n",
       "    </tr>\n",
       "    <tr>\n",
       "      <th>3</th>\n",
       "      <td>4</td>\n",
       "      <td>3</td>\n",
       "      <td>johnsonamanda</td>\n",
       "      <td>Finally month interesting blue could nature cu...</td>\n",
       "    </tr>\n",
       "    <tr>\n",
       "      <th>4</th>\n",
       "      <td>5</td>\n",
       "      <td>3</td>\n",
       "      <td>scotttamara</td>\n",
       "      <td>Nation purpose heavy give wait song will. List...</td>\n",
       "    </tr>\n",
       "  </tbody>\n",
       "</table>\n",
       "</div>"
      ],
      "text/plain": [
       "   review_id  book_id       username  \\\n",
       "0          1        1   brandtandrea   \n",
       "1          2        1     ryanfranco   \n",
       "2          3        2       lorichen   \n",
       "3          4        3  johnsonamanda   \n",
       "4          5        3    scotttamara   \n",
       "\n",
       "                                                text  \n",
       "0  Mention society tell send professor analysis. ...  \n",
       "1  Foot glass pretty audience hit themselves. Amo...  \n",
       "2  Listen treat keep worry. Miss husband tax but ...  \n",
       "3  Finally month interesting blue could nature cu...  \n",
       "4  Nation purpose heavy give wait song will. List...  "
      ]
     },
     "execution_count": 9,
     "metadata": {},
     "output_type": "execute_result"
    }
   ],
   "source": [
    "#Primeras 5 filas de la tabla reviews\n",
    "query = '''\n",
    "SELECT *\n",
    "FROM reviews\n",
    "LIMIT 5;\n",
    "'''\n",
    "pd.io.sql.read_sql(query, con = engine)"
   ]
  },
  {
   "cell_type": "markdown",
   "metadata": {},
   "source": [
    "# Objetivo del Estudio\n",
    "\n",
    "**Conocer el mercado**\n",
    "\n",
    "¿Cuántos libros se han publicado después del 1 de enero del 2000?\n",
    "\n",
    "¿Cuántas reseñas han hecho los usuarios y la calificación promedio para cada libro?\n",
    "\n",
    "¿Cuál ha sido la editorial que ha publicado más libros (> a 50 páginas)?\n",
    "\n",
    "¿Cuál es el mejor autor, el que tiene la más alta calificación promedio del libro (> 50 páginas)?\n",
    "\n",
    "El número promedio de reseñas entre usuarios que calificaron más de 50 libros."
   ]
  },
  {
   "cell_type": "markdown",
   "metadata": {},
   "source": [
    "## Encontremos el número de libros publicados después del 1 de enero de 2000."
   ]
  },
  {
   "cell_type": "code",
   "execution_count": 10,
   "metadata": {
    "scrolled": true
   },
   "outputs": [
    {
     "data": {
      "application/vnd.microsoft.datawrangler.viewer.v0+json": {
       "columns": [
        {
         "name": "index",
         "rawType": "int64",
         "type": "integer"
        },
        {
         "name": "total_libros",
         "rawType": "int64",
         "type": "integer"
        }
       ],
       "ref": "725a6590-c74c-4909-b01f-e1e20b696151",
       "rows": [
        [
         "0",
         "819"
        ]
       ],
       "shape": {
        "columns": 1,
        "rows": 1
       }
      },
      "text/html": [
       "<div>\n",
       "<style scoped>\n",
       "    .dataframe tbody tr th:only-of-type {\n",
       "        vertical-align: middle;\n",
       "    }\n",
       "\n",
       "    .dataframe tbody tr th {\n",
       "        vertical-align: top;\n",
       "    }\n",
       "\n",
       "    .dataframe thead th {\n",
       "        text-align: right;\n",
       "    }\n",
       "</style>\n",
       "<table border=\"1\" class=\"dataframe\">\n",
       "  <thead>\n",
       "    <tr style=\"text-align: right;\">\n",
       "      <th></th>\n",
       "      <th>total_libros</th>\n",
       "    </tr>\n",
       "  </thead>\n",
       "  <tbody>\n",
       "    <tr>\n",
       "      <th>0</th>\n",
       "      <td>819</td>\n",
       "    </tr>\n",
       "  </tbody>\n",
       "</table>\n",
       "</div>"
      ],
      "text/plain": [
       "   total_libros\n",
       "0           819"
      ]
     },
     "execution_count": 10,
     "metadata": {},
     "output_type": "execute_result"
    }
   ],
   "source": [
    "#Veamos el número de libros publicacdos después del 1 de enero del 2020\n",
    "query = '''\n",
    "SELECT \n",
    "COUNT (book_id) AS total_libros\n",
    "FROM books\n",
    "WHERE \n",
    "publication_date > '2000-01-01';\n",
    "'''\n",
    "pd.io.sql.read_sql(query, con = engine)"
   ]
  },
  {
   "cell_type": "code",
   "execution_count": 11,
   "metadata": {
    "scrolled": true
   },
   "outputs": [
    {
     "data": {
      "application/vnd.microsoft.datawrangler.viewer.v0+json": {
       "columns": [
        {
         "name": "index",
         "rawType": "int64",
         "type": "integer"
        },
        {
         "name": "fecha_max",
         "rawType": "object",
         "type": "unknown"
        }
       ],
       "ref": "ba5514a5-d057-4b58-b2e1-b9910d66f7e6",
       "rows": [
        [
         "0",
         "2020-03-31"
        ]
       ],
       "shape": {
        "columns": 1,
        "rows": 1
       }
      },
      "text/html": [
       "<div>\n",
       "<style scoped>\n",
       "    .dataframe tbody tr th:only-of-type {\n",
       "        vertical-align: middle;\n",
       "    }\n",
       "\n",
       "    .dataframe tbody tr th {\n",
       "        vertical-align: top;\n",
       "    }\n",
       "\n",
       "    .dataframe thead th {\n",
       "        text-align: right;\n",
       "    }\n",
       "</style>\n",
       "<table border=\"1\" class=\"dataframe\">\n",
       "  <thead>\n",
       "    <tr style=\"text-align: right;\">\n",
       "      <th></th>\n",
       "      <th>fecha_max</th>\n",
       "    </tr>\n",
       "  </thead>\n",
       "  <tbody>\n",
       "    <tr>\n",
       "      <th>0</th>\n",
       "      <td>2020-03-31</td>\n",
       "    </tr>\n",
       "  </tbody>\n",
       "</table>\n",
       "</div>"
      ],
      "text/plain": [
       "    fecha_max\n",
       "0  2020-03-31"
      ]
     },
     "execution_count": 11,
     "metadata": {},
     "output_type": "execute_result"
    }
   ],
   "source": [
    "#Veamos la fecha más reciente\n",
    "query = '''\n",
    "SELECT \n",
    "MAX(publication_date) AS Fecha_Max\n",
    "FROM books;\n",
    "'''\n",
    "pd.io.sql.read_sql(query, con = engine)"
   ]
  },
  {
   "cell_type": "markdown",
   "metadata": {},
   "source": [
    "**Se han escrito 819 libros desde el 1 de Enero del 2000 hasta el 31 de Marzo del 2020**\n"
   ]
  },
  {
   "cell_type": "markdown",
   "metadata": {},
   "source": [
    "## Encontremos el número de reseñas de usuarios y la calificación promedio para cada libro."
   ]
  },
  {
   "cell_type": "code",
   "execution_count": 12,
   "metadata": {
    "scrolled": true
   },
   "outputs": [
    {
     "data": {
      "application/vnd.microsoft.datawrangler.viewer.v0+json": {
       "columns": [
        {
         "name": "index",
         "rawType": "int64",
         "type": "integer"
        },
        {
         "name": "total_reviews",
         "rawType": "int64",
         "type": "integer"
        }
       ],
       "ref": "72caee54-59ea-4c14-ac8b-d7aea7096e4a",
       "rows": [
        [
         "0",
         "2793"
        ]
       ],
       "shape": {
        "columns": 1,
        "rows": 1
       }
      },
      "text/html": [
       "<div>\n",
       "<style scoped>\n",
       "    .dataframe tbody tr th:only-of-type {\n",
       "        vertical-align: middle;\n",
       "    }\n",
       "\n",
       "    .dataframe tbody tr th {\n",
       "        vertical-align: top;\n",
       "    }\n",
       "\n",
       "    .dataframe thead th {\n",
       "        text-align: right;\n",
       "    }\n",
       "</style>\n",
       "<table border=\"1\" class=\"dataframe\">\n",
       "  <thead>\n",
       "    <tr style=\"text-align: right;\">\n",
       "      <th></th>\n",
       "      <th>total_reviews</th>\n",
       "    </tr>\n",
       "  </thead>\n",
       "  <tbody>\n",
       "    <tr>\n",
       "      <th>0</th>\n",
       "      <td>2793</td>\n",
       "    </tr>\n",
       "  </tbody>\n",
       "</table>\n",
       "</div>"
      ],
      "text/plain": [
       "   total_reviews\n",
       "0           2793"
      ]
     },
     "execution_count": 12,
     "metadata": {},
     "output_type": "execute_result"
    }
   ],
   "source": [
    "#Número de reseñas de usuarios\n",
    "query = '''\n",
    "SELECT \n",
    "COUNT(DISTINCT review_id) AS Total_reviews\n",
    "FROM reviews;\n",
    "'''\n",
    "pd.io.sql.read_sql(query, con = engine)"
   ]
  },
  {
   "cell_type": "code",
   "execution_count": 13,
   "metadata": {},
   "outputs": [
    {
     "data": {
      "application/vnd.microsoft.datawrangler.viewer.v0+json": {
       "columns": [
        {
         "name": "index",
         "rawType": "int64",
         "type": "integer"
        },
        {
         "name": "titulo",
         "rawType": "object",
         "type": "string"
        },
        {
         "name": "rating_promedio",
         "rawType": "float64",
         "type": "float"
        },
        {
         "name": "total_reviews",
         "rawType": "int64",
         "type": "integer"
        }
       ],
       "ref": "0fb38c20-2160-4cb1-bda4-0238cdfd21f2",
       "rows": [
        [
         "0",
         "Captivating: Unveiling the Mystery of a Woman's Soul",
         "5.0",
         "4"
        ],
        [
         "1",
         "Evening Class",
         "5.0",
         "4"
        ],
        [
         "2",
         "In the Hand of the Goddess (Song of the Lioness  #2)",
         "5.0",
         "6"
        ],
        [
         "3",
         "The Big Bad Wolf  (Alex Cross  #9)",
         "5.0",
         "4"
        ],
        [
         "4",
         "A Dirty Job (Grim Reaper  #1)",
         "5.0",
         "16"
        ],
        [
         "5",
         "Piercing the Darkness (Darkness  #2)",
         "5.0",
         "4"
        ],
        [
         "6",
         "Alas  Babylon",
         "5.0",
         "4"
        ],
        [
         "7",
         "The Woman in Black",
         "5.0",
         "4"
        ],
        [
         "8",
         "Triptych (Will Trent  #1)",
         "5.0",
         "4"
        ],
        [
         "9",
         "How to Be a Domestic Goddess: Baking and the Art of Comfort Cooking",
         "5.0",
         "2"
        ],
        [
         "10",
         "Wherever You Go  There You Are: Mindfulness Meditation in Everyday Life",
         "5.0",
         "4"
        ],
        [
         "11",
         "Welcome to Temptation (Dempseys  #1)",
         "5.0",
         "4"
        ],
        [
         "12",
         "The Walking Dead  Book One (The Walking Dead #1-12)",
         "5.0",
         "4"
        ],
        [
         "13",
         "Moneyball: The Art of Winning an Unfair Game",
         "5.0",
         "9"
        ],
        [
         "14",
         "Act of Treason (Mitch Rapp  #9)",
         "5.0",
         "4"
        ],
        [
         "15",
         "The Demon-Haunted World: Science as a Candle in the Dark",
         "5.0",
         "4"
        ],
        [
         "16",
         "A Fistful of Charms (The Hollows  #4)",
         "5.0",
         "4"
        ],
        [
         "17",
         "The Ghost Map: The Story of London's Most Terrifying Epidemic—and How It Changed Science  Cities  and the Modern World",
         "5.0",
         "4"
        ],
        [
         "18",
         "March",
         "5.0",
         "4"
        ],
        [
         "19",
         "Evil Under the Sun (Hercule Poirot  #24)",
         "5.0",
         "4"
        ],
        [
         "20",
         "Misty of Chincoteague (Misty  #1)",
         "5.0",
         "4"
        ],
        [
         "21",
         "Light in August",
         "5.0",
         "4"
        ],
        [
         "22",
         "Stolen (Women of the Otherworld  #2)",
         "5.0",
         "4"
        ],
        [
         "23",
         "Emily of New Moon (Emily  #1)",
         "5.0",
         "4"
        ],
        [
         "24",
         "Crucial Conversations: Tools for Talking When Stakes Are High",
         "5.0",
         "4"
        ],
        [
         "25",
         "Angels Fall",
         "5.0",
         "4"
        ],
        [
         "26",
         "Homage to Catalonia",
         "5.0",
         "4"
        ],
        [
         "27",
         "Tai-Pan (Asian Saga  #2)",
         "5.0",
         "4"
        ],
        [
         "28",
         "Geek Love",
         "5.0",
         "4"
        ],
        [
         "29",
         "Hard Times",
         "5.0",
         "4"
        ],
        [
         "30",
         "The Cat in the Hat and Other Dr. Seuss Favorites",
         "5.0",
         "0"
        ],
        [
         "31",
         "Pop Goes the Weasel (Alex Cross  #5)",
         "5.0",
         "4"
        ],
        [
         "32",
         "Women",
         "5.0",
         "4"
        ],
        [
         "33",
         "School's Out—Forever (Maximum Ride  #2)",
         "5.0",
         "12"
        ],
        [
         "34",
         "Plum Island (John Corey  #1)",
         "5.0",
         "4"
        ],
        [
         "35",
         "My Name Is Asher Lev",
         "5.0",
         "4"
        ],
        [
         "36",
         "Marvel 1602",
         "5.0",
         "4"
        ],
        [
         "37",
         "The War of Art: Break Through the Blocks & Win Your Inner Creative Battles",
         "5.0",
         "4"
        ],
        [
         "38",
         "Neil Gaiman's Neverwhere",
         "5.0",
         "4"
        ],
        [
         "39",
         "Stone of Farewell (Memory  Sorrow  and Thorn  #2)",
         "5.0",
         "2"
        ],
        [
         "40",
         "Arrows of the Queen (Heralds of Valdemar  #1)",
         "5.0",
         "4"
        ],
        [
         "41",
         "A Woman of Substance (Emma Harte Saga #1)",
         "5.0",
         "4"
        ],
        [
         "42",
         "The Adventures of Tom Sawyer and Adventures of Huckleberry Finn",
         "5.0",
         "2"
        ],
        [
         "43",
         "Dead Souls",
         "5.0",
         "4"
        ],
        [
         "44",
         "Dragonfly in Amber (Outlander  #2)",
         "4.88",
         "32"
        ],
        [
         "45",
         "Preludes & Nocturnes (The Sandman  #1)",
         "4.83",
         "18"
        ],
        [
         "46",
         "The Monster at the End of this Book",
         "4.75",
         "12"
        ],
        [
         "47",
         "Lover Revealed (Black Dagger Brotherhood  #4)",
         "4.75",
         "12"
        ],
        [
         "48",
         "The Twits",
         "4.75",
         "12"
        ],
        [
         "49",
         "House of Leaves",
         "4.75",
         "16"
        ]
       ],
       "shape": {
        "columns": 3,
        "rows": 999
       }
      },
      "text/html": [
       "<div>\n",
       "<style scoped>\n",
       "    .dataframe tbody tr th:only-of-type {\n",
       "        vertical-align: middle;\n",
       "    }\n",
       "\n",
       "    .dataframe tbody tr th {\n",
       "        vertical-align: top;\n",
       "    }\n",
       "\n",
       "    .dataframe thead th {\n",
       "        text-align: right;\n",
       "    }\n",
       "</style>\n",
       "<table border=\"1\" class=\"dataframe\">\n",
       "  <thead>\n",
       "    <tr style=\"text-align: right;\">\n",
       "      <th></th>\n",
       "      <th>titulo</th>\n",
       "      <th>rating_promedio</th>\n",
       "      <th>total_reviews</th>\n",
       "    </tr>\n",
       "  </thead>\n",
       "  <tbody>\n",
       "    <tr>\n",
       "      <th>0</th>\n",
       "      <td>Captivating: Unveiling the Mystery of a Woman'...</td>\n",
       "      <td>5.00</td>\n",
       "      <td>4</td>\n",
       "    </tr>\n",
       "    <tr>\n",
       "      <th>1</th>\n",
       "      <td>Evening Class</td>\n",
       "      <td>5.00</td>\n",
       "      <td>4</td>\n",
       "    </tr>\n",
       "    <tr>\n",
       "      <th>2</th>\n",
       "      <td>In the Hand of the Goddess (Song of the Liones...</td>\n",
       "      <td>5.00</td>\n",
       "      <td>6</td>\n",
       "    </tr>\n",
       "    <tr>\n",
       "      <th>3</th>\n",
       "      <td>The Big Bad Wolf  (Alex Cross  #9)</td>\n",
       "      <td>5.00</td>\n",
       "      <td>4</td>\n",
       "    </tr>\n",
       "    <tr>\n",
       "      <th>4</th>\n",
       "      <td>A Dirty Job (Grim Reaper  #1)</td>\n",
       "      <td>5.00</td>\n",
       "      <td>16</td>\n",
       "    </tr>\n",
       "    <tr>\n",
       "      <th>...</th>\n",
       "      <td>...</td>\n",
       "      <td>...</td>\n",
       "      <td>...</td>\n",
       "    </tr>\n",
       "    <tr>\n",
       "      <th>994</th>\n",
       "      <td>The World Is Flat: A Brief History of the Twen...</td>\n",
       "      <td>2.25</td>\n",
       "      <td>12</td>\n",
       "    </tr>\n",
       "    <tr>\n",
       "      <th>995</th>\n",
       "      <td>His Excellency: George Washington</td>\n",
       "      <td>2.00</td>\n",
       "      <td>4</td>\n",
       "    </tr>\n",
       "    <tr>\n",
       "      <th>996</th>\n",
       "      <td>Junky</td>\n",
       "      <td>2.00</td>\n",
       "      <td>4</td>\n",
       "    </tr>\n",
       "    <tr>\n",
       "      <th>997</th>\n",
       "      <td>Drowning Ruth</td>\n",
       "      <td>2.00</td>\n",
       "      <td>9</td>\n",
       "    </tr>\n",
       "    <tr>\n",
       "      <th>998</th>\n",
       "      <td>Harvesting the Heart</td>\n",
       "      <td>1.50</td>\n",
       "      <td>4</td>\n",
       "    </tr>\n",
       "  </tbody>\n",
       "</table>\n",
       "<p>999 rows × 3 columns</p>\n",
       "</div>"
      ],
      "text/plain": [
       "                                                titulo  rating_promedio  \\\n",
       "0    Captivating: Unveiling the Mystery of a Woman'...             5.00   \n",
       "1                                        Evening Class             5.00   \n",
       "2    In the Hand of the Goddess (Song of the Liones...             5.00   \n",
       "3                   The Big Bad Wolf  (Alex Cross  #9)             5.00   \n",
       "4                        A Dirty Job (Grim Reaper  #1)             5.00   \n",
       "..                                                 ...              ...   \n",
       "994  The World Is Flat: A Brief History of the Twen...             2.25   \n",
       "995                  His Excellency: George Washington             2.00   \n",
       "996                                              Junky             2.00   \n",
       "997                                      Drowning Ruth             2.00   \n",
       "998                               Harvesting the Heart             1.50   \n",
       "\n",
       "     total_reviews  \n",
       "0                4  \n",
       "1                4  \n",
       "2                6  \n",
       "3                4  \n",
       "4               16  \n",
       "..             ...  \n",
       "994             12  \n",
       "995              4  \n",
       "996              4  \n",
       "997              9  \n",
       "998              4  \n",
       "\n",
       "[999 rows x 3 columns]"
      ]
     },
     "execution_count": 13,
     "metadata": {},
     "output_type": "execute_result"
    }
   ],
   "source": [
    "#Número de reseñas para cada libro y calificación promedio para cada libro\n",
    "query = '''\n",
    "SELECT \n",
    "books.title AS titulo,\n",
    "ROUND(AVG(ratings.rating),2) AS RATING_PROMEDIO,\n",
    "COUNT(reviews.review_id) AS total_reviews\n",
    "FROM books\n",
    "LEFT JOIN ratings ON ratings.book_id = \n",
    "books.book_id\n",
    "LEFT JOIN reviews ON reviews.book_id =\n",
    "books.book_id\n",
    "GROUP BY\n",
    "books.title\n",
    "ORDER BY\n",
    "RATING_PROMEDIO DESC;\n",
    "'''\n",
    "pd.io.sql.read_sql(query, con = engine)"
   ]
  },
  {
   "cell_type": "markdown",
   "metadata": {},
   "source": [
    "**Hemos creado una vista donde podemos ver cuáles libros tienen el mejor rating y podemos ver cuántas reviews tienen pero, para tener datos más limpios deberíamos filtrar un poco más los datos (por número de páginas de los libros, cuántas reviews han recibido, por ejemplo)**\n"
   ]
  },
  {
   "cell_type": "markdown",
   "metadata": {},
   "source": [
    "## Identifiquemos la editorial que ha publicado el mayor número de libros con más de 50 páginas"
   ]
  },
  {
   "cell_type": "code",
   "execution_count": 14,
   "metadata": {
    "scrolled": false
   },
   "outputs": [
    {
     "data": {
      "application/vnd.microsoft.datawrangler.viewer.v0+json": {
       "columns": [
        {
         "name": "index",
         "rawType": "int64",
         "type": "integer"
        },
        {
         "name": "editorial",
         "rawType": "object",
         "type": "string"
        },
        {
         "name": "id_editorial",
         "rawType": "int64",
         "type": "integer"
        },
        {
         "name": "total_libros",
         "rawType": "int64",
         "type": "integer"
        }
       ],
       "ref": "02e2dac0-5c1b-4813-9ef4-a7a8b906de94",
       "rows": [
        [
         "0",
         "Penguin Books",
         "212",
         "42"
        ],
        [
         "1",
         "Vintage",
         "309",
         "31"
        ],
        [
         "2",
         "Grand Central Publishing",
         "116",
         "25"
        ]
       ],
       "shape": {
        "columns": 3,
        "rows": 3
       }
      },
      "text/html": [
       "<div>\n",
       "<style scoped>\n",
       "    .dataframe tbody tr th:only-of-type {\n",
       "        vertical-align: middle;\n",
       "    }\n",
       "\n",
       "    .dataframe tbody tr th {\n",
       "        vertical-align: top;\n",
       "    }\n",
       "\n",
       "    .dataframe thead th {\n",
       "        text-align: right;\n",
       "    }\n",
       "</style>\n",
       "<table border=\"1\" class=\"dataframe\">\n",
       "  <thead>\n",
       "    <tr style=\"text-align: right;\">\n",
       "      <th></th>\n",
       "      <th>editorial</th>\n",
       "      <th>id_editorial</th>\n",
       "      <th>total_libros</th>\n",
       "    </tr>\n",
       "  </thead>\n",
       "  <tbody>\n",
       "    <tr>\n",
       "      <th>0</th>\n",
       "      <td>Penguin Books</td>\n",
       "      <td>212</td>\n",
       "      <td>42</td>\n",
       "    </tr>\n",
       "    <tr>\n",
       "      <th>1</th>\n",
       "      <td>Vintage</td>\n",
       "      <td>309</td>\n",
       "      <td>31</td>\n",
       "    </tr>\n",
       "    <tr>\n",
       "      <th>2</th>\n",
       "      <td>Grand Central Publishing</td>\n",
       "      <td>116</td>\n",
       "      <td>25</td>\n",
       "    </tr>\n",
       "  </tbody>\n",
       "</table>\n",
       "</div>"
      ],
      "text/plain": [
       "                  editorial  id_editorial  total_libros\n",
       "0             Penguin Books           212            42\n",
       "1                   Vintage           309            31\n",
       "2  Grand Central Publishing           116            25"
      ]
     },
     "execution_count": 14,
     "metadata": {},
     "output_type": "execute_result"
    }
   ],
   "source": [
    "#Editoriales con mayor número de libros publicados\n",
    "query = '''\n",
    "SELECT \n",
    "publishers.publisher AS editorial,\n",
    "publishers.publisher_id AS id_editorial,\n",
    "COUNT(books.book_id) AS total_libros\n",
    "FROM publishers\n",
    "LEFT JOIN books ON books.publisher_id = publishers.publisher_id\n",
    "WHERE\n",
    "books.num_pages > 50\n",
    "GROUP BY publishers.publisher, publishers.publisher_id\n",
    "ORDER BY\n",
    "total_libros DESC\n",
    "LIMIT 3;\n",
    "'''\n",
    "pd.io.sql.read_sql(query, con = engine)"
   ]
  },
  {
   "cell_type": "markdown",
   "metadata": {},
   "source": [
    "**La editorial con más libros publicados es \"Penguin Books\" con 42 libros, seguida de la editorial \"Vintage\" con 309**"
   ]
  },
  {
   "cell_type": "markdown",
   "metadata": {},
   "source": [
    "## Identifiquemos al autor que tiene la más alta calificación promedio del libro: veamos solo los libros con al menos 50 calificaciones."
   ]
  },
  {
   "cell_type": "code",
   "execution_count": 15,
   "metadata": {
    "scrolled": false
   },
   "outputs": [
    {
     "data": {
      "application/vnd.microsoft.datawrangler.viewer.v0+json": {
       "columns": [
        {
         "name": "index",
         "rawType": "int64",
         "type": "integer"
        },
        {
         "name": "libro_id",
         "rawType": "int64",
         "type": "integer"
        },
        {
         "name": "titulo",
         "rawType": "object",
         "type": "string"
        },
        {
         "name": "autor_id",
         "rawType": "int64",
         "type": "integer"
        },
        {
         "name": "autor",
         "rawType": "object",
         "type": "string"
        },
        {
         "name": "rating_promedio",
         "rawType": "float64",
         "type": "float"
        }
       ],
       "ref": "7f355947-24b3-498a-8174-902bbf20676f",
       "rows": [
        [
         "0",
         "302",
         "Harry Potter and the Prisoner of Azkaban (Harry Potter  #3)",
         "236",
         "J.K. Rowling/Mary GrandPré",
         "4.41"
        ],
        [
         "1",
         "722",
         "The Fellowship of the Ring (The Lord of the Rings  #1)",
         "240",
         "J.R.R. Tolkien",
         "4.39"
        ],
        [
         "2",
         "299",
         "Harry Potter and the Chamber of Secrets (Harry Potter  #2)",
         "236",
         "J.K. Rowling/Mary GrandPré",
         "4.29"
        ]
       ],
       "shape": {
        "columns": 5,
        "rows": 3
       }
      },
      "text/html": [
       "<div>\n",
       "<style scoped>\n",
       "    .dataframe tbody tr th:only-of-type {\n",
       "        vertical-align: middle;\n",
       "    }\n",
       "\n",
       "    .dataframe tbody tr th {\n",
       "        vertical-align: top;\n",
       "    }\n",
       "\n",
       "    .dataframe thead th {\n",
       "        text-align: right;\n",
       "    }\n",
       "</style>\n",
       "<table border=\"1\" class=\"dataframe\">\n",
       "  <thead>\n",
       "    <tr style=\"text-align: right;\">\n",
       "      <th></th>\n",
       "      <th>libro_id</th>\n",
       "      <th>titulo</th>\n",
       "      <th>autor_id</th>\n",
       "      <th>autor</th>\n",
       "      <th>rating_promedio</th>\n",
       "    </tr>\n",
       "  </thead>\n",
       "  <tbody>\n",
       "    <tr>\n",
       "      <th>0</th>\n",
       "      <td>302</td>\n",
       "      <td>Harry Potter and the Prisoner of Azkaban (Harr...</td>\n",
       "      <td>236</td>\n",
       "      <td>J.K. Rowling/Mary GrandPré</td>\n",
       "      <td>4.41</td>\n",
       "    </tr>\n",
       "    <tr>\n",
       "      <th>1</th>\n",
       "      <td>722</td>\n",
       "      <td>The Fellowship of the Ring (The Lord of the Ri...</td>\n",
       "      <td>240</td>\n",
       "      <td>J.R.R. Tolkien</td>\n",
       "      <td>4.39</td>\n",
       "    </tr>\n",
       "    <tr>\n",
       "      <th>2</th>\n",
       "      <td>299</td>\n",
       "      <td>Harry Potter and the Chamber of Secrets (Harry...</td>\n",
       "      <td>236</td>\n",
       "      <td>J.K. Rowling/Mary GrandPré</td>\n",
       "      <td>4.29</td>\n",
       "    </tr>\n",
       "  </tbody>\n",
       "</table>\n",
       "</div>"
      ],
      "text/plain": [
       "   libro_id                                             titulo  autor_id  \\\n",
       "0       302  Harry Potter and the Prisoner of Azkaban (Harr...       236   \n",
       "1       722  The Fellowship of the Ring (The Lord of the Ri...       240   \n",
       "2       299  Harry Potter and the Chamber of Secrets (Harry...       236   \n",
       "\n",
       "                        autor  rating_promedio  \n",
       "0  J.K. Rowling/Mary GrandPré             4.41  \n",
       "1              J.R.R. Tolkien             4.39  \n",
       "2  J.K. Rowling/Mary GrandPré             4.29  "
      ]
     },
     "execution_count": 15,
     "metadata": {},
     "output_type": "execute_result"
    }
   ],
   "source": [
    "#Autor con mayor calificación promedio \n",
    "query = '''\n",
    "SELECT\n",
    "books.book_id AS libro_id,\n",
    "books.title AS titulo,\n",
    "authors.author_id AS autor_id,\n",
    "authors.author AS autor,\n",
    "ROUND(AVG(ratings.rating),2) AS rating_promedio\n",
    "FROM\n",
    "books \n",
    "INNER JOIN (\n",
    "SELECT\n",
    "book_id\n",
    "FROM\n",
    "ratings\n",
    "GROUP BY book_id\n",
    "HAVING COUNT(rating_id) >= 50\n",
    ") AS libros_filtrados ON libros_filtrados.book_id = books.book_id\n",
    "INNER JOIN ratings ON ratings.book_id = books.book_id\n",
    "INNER JOIN authors ON authors.author_id = books.author_id\n",
    "WHERE books.num_pages > 50\n",
    "GROUP BY authors.author_id, authors.author, books.book_id, books.title\n",
    "ORDER BY rating_promedio DESC\n",
    "LIMIT 3;\n",
    "'''\n",
    "pd.io.sql.read_sql(query, con = engine)"
   ]
  },
  {
   "cell_type": "markdown",
   "metadata": {},
   "source": [
    "**Los autores con la calificación más alta promedio es J.K. Rowling/Mary GrandPré, tomando los libros con al menos 50 calificaciones.**\n",
    "\n",
    "**Estos libros podrían entrar en una sección de recomendados ya que tienen un buen rating y fueron evaluados por muchas personas**"
   ]
  },
  {
   "cell_type": "markdown",
   "metadata": {},
   "source": [
    "## Encontremos el número promedio de reseñas de texto entre los usuarios que calificaron más de 50 libros."
   ]
  },
  {
   "cell_type": "code",
   "execution_count": 16,
   "metadata": {
    "scrolled": true
   },
   "outputs": [
    {
     "data": {
      "application/vnd.microsoft.datawrangler.viewer.v0+json": {
       "columns": [
        {
         "name": "index",
         "rawType": "int64",
         "type": "integer"
        },
        {
         "name": "promedio_reviews",
         "rawType": "object",
         "type": "unknown"
        }
       ],
       "ref": "c5087f81-225c-4669-ad50-3bf4ad901762",
       "rows": [
        [
         "0",
         null
        ]
       ],
       "shape": {
        "columns": 1,
        "rows": 1
       }
      },
      "text/html": [
       "<div>\n",
       "<style scoped>\n",
       "    .dataframe tbody tr th:only-of-type {\n",
       "        vertical-align: middle;\n",
       "    }\n",
       "\n",
       "    .dataframe tbody tr th {\n",
       "        vertical-align: top;\n",
       "    }\n",
       "\n",
       "    .dataframe thead th {\n",
       "        text-align: right;\n",
       "    }\n",
       "</style>\n",
       "<table border=\"1\" class=\"dataframe\">\n",
       "  <thead>\n",
       "    <tr style=\"text-align: right;\">\n",
       "      <th></th>\n",
       "      <th>promedio_reviews</th>\n",
       "    </tr>\n",
       "  </thead>\n",
       "  <tbody>\n",
       "    <tr>\n",
       "      <th>0</th>\n",
       "      <td>None</td>\n",
       "    </tr>\n",
       "  </tbody>\n",
       "</table>\n",
       "</div>"
      ],
      "text/plain": [
       "  promedio_reviews\n",
       "0             None"
      ]
     },
     "execution_count": 16,
     "metadata": {},
     "output_type": "execute_result"
    }
   ],
   "source": [
    "#Número promedio de reseñas de texto entre los usuarios que calificaron más de 50 libros\n",
    "\n",
    "query = '''\n",
    "SELECT \n",
    "ROUND(AVG(review_count), 2) AS promedio_reviews\n",
    "FROM (\n",
    "    SELECT \n",
    "        username,\n",
    "        COUNT(review_id) AS review_count\n",
    "    FROM reviews\n",
    "    LEFT JOIN books ON books.book_id = reviews.book_id\n",
    "    WHERE books.num_pages > 50\n",
    "    GROUP BY username\n",
    "    HAVING COUNT(DISTINCT reviews.book_id) > 50\n",
    ") AS usuarios_filtrados;\n",
    "'''\n",
    "pd.io.sql.read_sql(query, con = engine)"
   ]
  },
  {
   "cell_type": "markdown",
   "metadata": {},
   "source": [
    "**Vaya!! Parece que no tenemos usuarios que hayan hecho reseñas de texto y leido más de 50 libros (\"libros\" que tengan más de 50 páginas)**"
   ]
  },
  {
   "cell_type": "code",
   "execution_count": 17,
   "metadata": {
    "scrolled": true
   },
   "outputs": [
    {
     "data": {
      "application/vnd.microsoft.datawrangler.viewer.v0+json": {
       "columns": [
        {
         "name": "index",
         "rawType": "int64",
         "type": "integer"
        },
        {
         "name": "promedio_reviews",
         "rawType": "float64",
         "type": "float"
        }
       ],
       "ref": "7f2c2c22-07ee-4b8a-9f28-195a045261ae",
       "rows": [
        [
         "0",
         "17.74"
        ]
       ],
       "shape": {
        "columns": 1,
        "rows": 1
       }
      },
      "text/html": [
       "<div>\n",
       "<style scoped>\n",
       "    .dataframe tbody tr th:only-of-type {\n",
       "        vertical-align: middle;\n",
       "    }\n",
       "\n",
       "    .dataframe tbody tr th {\n",
       "        vertical-align: top;\n",
       "    }\n",
       "\n",
       "    .dataframe thead th {\n",
       "        text-align: right;\n",
       "    }\n",
       "</style>\n",
       "<table border=\"1\" class=\"dataframe\">\n",
       "  <thead>\n",
       "    <tr style=\"text-align: right;\">\n",
       "      <th></th>\n",
       "      <th>promedio_reviews</th>\n",
       "    </tr>\n",
       "  </thead>\n",
       "  <tbody>\n",
       "    <tr>\n",
       "      <th>0</th>\n",
       "      <td>17.74</td>\n",
       "    </tr>\n",
       "  </tbody>\n",
       "</table>\n",
       "</div>"
      ],
      "text/plain": [
       "   promedio_reviews\n",
       "0             17.74"
      ]
     },
     "execution_count": 17,
     "metadata": {},
     "output_type": "execute_result"
    }
   ],
   "source": [
    "#Veamos relajando los parámetros de los filtros, quitando el número de páginas mínimo y a partir de más de 10 libros\n",
    "#Número promedio de reseñas de texto entre los usuarios que calificaron más de 10 libros\n",
    "\n",
    "query = '''\n",
    "SELECT \n",
    "ROUND(AVG(review_count), 2) AS promedio_reviews\n",
    "FROM (\n",
    "    SELECT \n",
    "        username,\n",
    "        COUNT(review_id) AS review_count\n",
    "    FROM reviews\n",
    "    LEFT JOIN books ON books.book_id = reviews.book_id\n",
    "    GROUP BY username\n",
    "    HAVING COUNT(DISTINCT reviews.book_id) > 10\n",
    ") AS usuarios_filtrados;\n",
    "'''\n",
    "pd.io.sql.read_sql(query, con = engine)"
   ]
  },
  {
   "cell_type": "markdown",
   "metadata": {},
   "source": [
    "**Para los usuarios que han leido más de 10 libros(sin importar de cuántas páginas sean) el promedio de reviews con texto es de 17.74, parece que no se hacen muchas reviews de los libros leídos, podríamos fomentar las reviews en nuestra página o aplicación**"
   ]
  }
 ],
 "metadata": {
  "ExecuteTimeLog": [
   {
    "duration": 406,
    "start_time": "2025-05-01T18:10:45.158Z"
   },
   {
    "duration": 2866,
    "start_time": "2025-05-01T20:39:18.498Z"
   },
   {
    "duration": 427,
    "start_time": "2025-05-01T22:57:31.256Z"
   },
   {
    "duration": 2879,
    "start_time": "2025-05-01T22:57:31.685Z"
   },
   {
    "duration": 759,
    "start_time": "2025-05-01T23:42:50.710Z"
   },
   {
    "duration": 750,
    "start_time": "2025-05-01T23:44:24.375Z"
   },
   {
    "duration": 747,
    "start_time": "2025-05-01T23:45:04.301Z"
   },
   {
    "duration": 747,
    "start_time": "2025-05-01T23:45:21.272Z"
   },
   {
    "duration": 747,
    "start_time": "2025-05-01T23:45:44.168Z"
   },
   {
    "duration": 755,
    "start_time": "2025-05-01T23:46:05.498Z"
   },
   {
    "duration": 375,
    "start_time": "2025-05-01T23:46:40.711Z"
   },
   {
    "duration": 2606,
    "start_time": "2025-05-01T23:46:41.088Z"
   },
   {
    "duration": 741,
    "start_time": "2025-05-01T23:46:43.696Z"
   },
   {
    "duration": 743,
    "start_time": "2025-05-01T23:46:44.439Z"
   },
   {
    "duration": 741,
    "start_time": "2025-05-01T23:46:45.184Z"
   },
   {
    "duration": 747,
    "start_time": "2025-05-01T23:46:45.927Z"
   },
   {
    "duration": 1332,
    "start_time": "2025-05-02T00:41:07.564Z"
   },
   {
    "duration": 834,
    "start_time": "2025-05-02T00:41:23.079Z"
   },
   {
    "duration": 742,
    "start_time": "2025-05-02T00:42:22.149Z"
   },
   {
    "duration": 741,
    "start_time": "2025-05-02T00:44:11.728Z"
   },
   {
    "duration": 741,
    "start_time": "2025-05-02T00:49:01.480Z"
   },
   {
    "duration": 4,
    "start_time": "2025-05-02T00:50:35.477Z"
   },
   {
    "duration": 847,
    "start_time": "2025-05-02T01:44:32.653Z"
   },
   {
    "duration": 740,
    "start_time": "2025-05-02T01:45:18.952Z"
   },
   {
    "duration": 895,
    "start_time": "2025-05-02T01:45:32.865Z"
   },
   {
    "duration": 993,
    "start_time": "2025-05-02T01:49:16.367Z"
   },
   {
    "duration": 993,
    "start_time": "2025-05-02T01:51:32.828Z"
   },
   {
    "duration": 349,
    "start_time": "2025-05-02T02:18:31.406Z"
   },
   {
    "duration": 2553,
    "start_time": "2025-05-02T02:18:31.757Z"
   },
   {
    "duration": 721,
    "start_time": "2025-05-02T02:18:34.312Z"
   },
   {
    "duration": 722,
    "start_time": "2025-05-02T02:18:35.036Z"
   },
   {
    "duration": 723,
    "start_time": "2025-05-02T02:18:35.760Z"
   },
   {
    "duration": 723,
    "start_time": "2025-05-02T02:18:36.485Z"
   },
   {
    "duration": 723,
    "start_time": "2025-05-02T02:18:37.210Z"
   },
   {
    "duration": 723,
    "start_time": "2025-05-02T02:18:37.934Z"
   },
   {
    "duration": 723,
    "start_time": "2025-05-02T02:18:38.659Z"
   },
   {
    "duration": 973,
    "start_time": "2025-05-02T02:18:39.384Z"
   },
   {
    "duration": 1304,
    "start_time": "2025-05-02T02:33:30.769Z"
   },
   {
    "duration": 817,
    "start_time": "2025-05-02T02:34:13.392Z"
   },
   {
    "duration": 975,
    "start_time": "2025-05-02T02:35:37.337Z"
   },
   {
    "duration": 972,
    "start_time": "2025-05-02T02:37:08.196Z"
   },
   {
    "duration": 974,
    "start_time": "2025-05-02T02:51:42.802Z"
   },
   {
    "duration": 815,
    "start_time": "2025-05-02T03:06:08.762Z"
   },
   {
    "duration": 725,
    "start_time": "2025-05-02T03:09:41.747Z"
   },
   {
    "duration": 866,
    "start_time": "2025-05-02T03:34:24.229Z"
   },
   {
    "duration": 819,
    "start_time": "2025-05-02T03:58:31.737Z"
   },
   {
    "duration": 841,
    "start_time": "2025-05-02T03:58:37.297Z"
   },
   {
    "duration": 404,
    "start_time": "2025-05-02T05:29:24.388Z"
   },
   {
    "duration": 2773,
    "start_time": "2025-05-02T05:29:24.794Z"
   },
   {
    "duration": 791,
    "start_time": "2025-05-02T05:29:27.569Z"
   },
   {
    "duration": 791,
    "start_time": "2025-05-02T05:29:28.362Z"
   },
   {
    "duration": 790,
    "start_time": "2025-05-02T05:29:29.155Z"
   },
   {
    "duration": 791,
    "start_time": "2025-05-02T05:29:29.947Z"
   },
   {
    "duration": 790,
    "start_time": "2025-05-02T05:29:30.740Z"
   },
   {
    "duration": 790,
    "start_time": "2025-05-02T05:29:31.531Z"
   },
   {
    "duration": 789,
    "start_time": "2025-05-02T05:29:32.324Z"
   },
   {
    "duration": 1395,
    "start_time": "2025-05-02T05:29:33.116Z"
   },
   {
    "duration": 0,
    "start_time": "2025-05-02T05:29:34.513Z"
   },
   {
    "duration": 0,
    "start_time": "2025-05-02T05:29:34.515Z"
   },
   {
    "duration": 3,
    "start_time": "2025-05-02T05:31:04.489Z"
   },
   {
    "duration": 2689,
    "start_time": "2025-05-02T05:31:04.495Z"
   },
   {
    "duration": 806,
    "start_time": "2025-05-02T05:31:07.187Z"
   },
   {
    "duration": 804,
    "start_time": "2025-05-02T05:31:07.995Z"
   },
   {
    "duration": 808,
    "start_time": "2025-05-02T05:31:08.803Z"
   },
   {
    "duration": 805,
    "start_time": "2025-05-02T05:31:09.613Z"
   },
   {
    "duration": 805,
    "start_time": "2025-05-02T05:31:10.421Z"
   },
   {
    "duration": 806,
    "start_time": "2025-05-02T05:31:11.228Z"
   },
   {
    "duration": 805,
    "start_time": "2025-05-02T05:31:12.035Z"
   },
   {
    "duration": 1086,
    "start_time": "2025-05-02T05:31:12.842Z"
   },
   {
    "duration": 807,
    "start_time": "2025-05-02T05:31:13.930Z"
   },
   {
    "duration": 809,
    "start_time": "2025-05-02T05:31:14.739Z"
   },
   {
    "duration": 384,
    "start_time": "2025-05-02T16:40:23.879Z"
   },
   {
    "duration": 2636,
    "start_time": "2025-05-02T16:40:24.264Z"
   },
   {
    "duration": 746,
    "start_time": "2025-05-02T16:40:26.902Z"
   },
   {
    "duration": 746,
    "start_time": "2025-05-02T16:40:27.650Z"
   },
   {
    "duration": 748,
    "start_time": "2025-05-02T16:40:28.398Z"
   },
   {
    "duration": 747,
    "start_time": "2025-05-02T16:40:29.149Z"
   },
   {
    "duration": 747,
    "start_time": "2025-05-02T16:40:29.898Z"
   },
   {
    "duration": 747,
    "start_time": "2025-05-02T16:40:30.647Z"
   },
   {
    "duration": 748,
    "start_time": "2025-05-02T16:40:31.397Z"
   },
   {
    "duration": 1008,
    "start_time": "2025-05-02T16:40:32.148Z"
   },
   {
    "duration": 749,
    "start_time": "2025-05-02T16:40:33.158Z"
   },
   {
    "duration": 1320,
    "start_time": "2025-05-02T16:40:33.908Z"
   },
   {
    "duration": 3,
    "start_time": "2025-05-02T16:45:04.759Z"
   },
   {
    "duration": 752,
    "start_time": "2025-05-02T16:45:16.790Z"
   },
   {
    "duration": 844,
    "start_time": "2025-05-02T17:40:25.036Z"
   },
   {
    "duration": 839,
    "start_time": "2025-05-02T17:41:08.920Z"
   },
   {
    "duration": 754,
    "start_time": "2025-05-02T17:42:14.496Z"
   },
   {
    "duration": 752,
    "start_time": "2025-05-02T17:42:58.134Z"
   },
   {
    "duration": 753,
    "start_time": "2025-05-02T18:39:18.073Z"
   },
   {
    "duration": 908,
    "start_time": "2025-05-02T18:49:53.206Z"
   },
   {
    "duration": 845,
    "start_time": "2025-05-02T18:58:21.261Z"
   },
   {
    "duration": 841,
    "start_time": "2025-05-02T19:01:44.872Z"
   },
   {
    "duration": 849,
    "start_time": "2025-05-02T19:04:53.558Z"
   },
   {
    "duration": 848,
    "start_time": "2025-05-02T19:05:52.642Z"
   },
   {
    "duration": 848,
    "start_time": "2025-05-02T19:06:40.205Z"
   },
   {
    "duration": 753,
    "start_time": "2025-05-02T19:07:13.412Z"
   },
   {
    "duration": 398,
    "start_time": "2025-05-02T19:10:36.357Z"
   },
   {
    "duration": 2567,
    "start_time": "2025-05-02T19:10:36.758Z"
   },
   {
    "duration": 729,
    "start_time": "2025-05-02T19:10:39.327Z"
   },
   {
    "duration": 727,
    "start_time": "2025-05-02T19:10:40.059Z"
   },
   {
    "duration": 727,
    "start_time": "2025-05-02T19:10:40.788Z"
   },
   {
    "duration": 728,
    "start_time": "2025-05-02T19:10:41.517Z"
   },
   {
    "duration": 727,
    "start_time": "2025-05-02T19:10:42.247Z"
   },
   {
    "duration": 729,
    "start_time": "2025-05-02T19:10:42.976Z"
   },
   {
    "duration": 728,
    "start_time": "2025-05-02T19:10:43.707Z"
   },
   {
    "duration": 982,
    "start_time": "2025-05-02T19:10:44.438Z"
   },
   {
    "duration": 733,
    "start_time": "2025-05-02T19:10:45.421Z"
   },
   {
    "duration": 734,
    "start_time": "2025-05-02T19:10:46.155Z"
   },
   {
    "duration": 730,
    "start_time": "2025-05-02T19:10:46.891Z"
   },
   {
    "duration": 732,
    "start_time": "2025-05-02T19:15:11.777Z"
   },
   {
    "duration": 730,
    "start_time": "2025-05-02T19:15:21.136Z"
   },
   {
    "duration": 729,
    "start_time": "2025-05-02T19:15:27.930Z"
   },
   {
    "duration": 729,
    "start_time": "2025-05-02T19:16:05.612Z"
   },
   {
    "duration": 731,
    "start_time": "2025-05-02T19:17:54.969Z"
   },
   {
    "duration": 729,
    "start_time": "2025-05-02T19:18:05.950Z"
   },
   {
    "duration": 732,
    "start_time": "2025-05-02T19:18:13.404Z"
   },
   {
    "duration": 733,
    "start_time": "2025-05-02T19:18:33.571Z"
   },
   {
    "duration": 732,
    "start_time": "2025-05-02T19:19:14.944Z"
   },
   {
    "duration": 728,
    "start_time": "2025-05-02T19:21:50.634Z"
   },
   {
    "duration": 1341,
    "start_time": "2025-05-02T19:24:54.790Z"
   },
   {
    "duration": 732,
    "start_time": "2025-05-02T19:25:48.762Z"
   },
   {
    "duration": 727,
    "start_time": "2025-05-02T19:26:44.117Z"
   },
   {
    "duration": 730,
    "start_time": "2025-05-02T19:27:06.610Z"
   },
   {
    "duration": 728,
    "start_time": "2025-05-02T19:27:11.278Z"
   },
   {
    "duration": 730,
    "start_time": "2025-05-02T19:27:14.452Z"
   },
   {
    "duration": 371,
    "start_time": "2025-05-03T04:36:35.676Z"
   },
   {
    "duration": 2622,
    "start_time": "2025-05-03T04:36:36.050Z"
   },
   {
    "duration": 747,
    "start_time": "2025-05-03T04:36:38.674Z"
   },
   {
    "duration": 744,
    "start_time": "2025-05-03T04:36:39.424Z"
   },
   {
    "duration": 745,
    "start_time": "2025-05-03T04:36:40.171Z"
   },
   {
    "duration": 749,
    "start_time": "2025-05-03T04:36:40.918Z"
   },
   {
    "duration": 744,
    "start_time": "2025-05-03T04:36:41.669Z"
   },
   {
    "duration": 744,
    "start_time": "2025-05-03T04:36:42.416Z"
   },
   {
    "duration": 743,
    "start_time": "2025-05-03T04:36:43.162Z"
   },
   {
    "duration": 1004,
    "start_time": "2025-05-03T04:36:43.908Z"
   },
   {
    "duration": 746,
    "start_time": "2025-05-03T04:36:44.914Z"
   },
   {
    "duration": 752,
    "start_time": "2025-05-03T04:36:45.662Z"
   },
   {
    "duration": 748,
    "start_time": "2025-05-03T04:36:46.416Z"
   },
   {
    "duration": 748,
    "start_time": "2025-05-03T04:36:47.166Z"
   }
  ],
  "kernelspec": {
   "display_name": "base",
   "language": "python",
   "name": "python3"
  },
  "language_info": {
   "codemirror_mode": {
    "name": "ipython",
    "version": 3
   },
   "file_extension": ".py",
   "mimetype": "text/x-python",
   "name": "python",
   "nbconvert_exporter": "python",
   "pygments_lexer": "ipython3",
   "version": "3.12.4"
  },
  "toc": {
   "base_numbering": 1,
   "nav_menu": {},
   "number_sections": true,
   "sideBar": true,
   "skip_h1_title": true,
   "title_cell": "Table of Contents",
   "title_sidebar": "Contents",
   "toc_cell": false,
   "toc_position": {},
   "toc_section_display": true,
   "toc_window_display": false
  }
 },
 "nbformat": 4,
 "nbformat_minor": 2
}
